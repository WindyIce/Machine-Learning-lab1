{
 "cells": [
  {
   "cell_type": "code",
   "execution_count": 1,
   "metadata": {},
   "outputs": [
    {
     "data": {
      "image/png": "[encoded data removed]",
      "text/plain": [
       "<matplotlib.figure.Figure at 0x2521b7daba8>"
      ]
     },
     "metadata": {},
     "output_type": "display_data"
    }
   ],
   "source": [
    "from sklearn.datasets import load_svmlight_file\n",
    "from sklearn.model_selection import train_test_split\n",
    "import scipy.sparse\n",
    "import numpy as np\n",
    "import matplotlib.pyplot as plt\n",
    "\n",
    "# load the data file\n",
    "data = load_svmlight_file('housing_scale.txt')\n",
    "\n",
    "# split the data into training set and alidation set\n",
    "X_train, X_test, Y_train, Y_test = train_test_split(data[0], data[1], test_size=0.25, random_state=42)  # Y = MX + b\n",
    "X_train = np.asarray(scipy.sparse.csr_matrix(X_train).todense())\n",
    "Y_train = np.asarray(scipy.sparse.csr_matrix(Y_train).todense())\n",
    "X_test = np.asarray(scipy.sparse.csr_matrix(X_test).todense())\n",
    "Y_test = np.asarray(scipy.sparse.csr_matrix(Y_test).todense())\n",
    "\n",
    "row = X_train.shape[0]\n",
    "column = X_train.shape[1]\n",
    "testrow = X_test.shape[0]\n",
    "testcolumn = X_test.shape[1]\n",
    "\n",
    "# Initialize the parameter\n",
    "X = np.hstack((X_train, np.ones((row, 1))))  # Let the last column in X to be 1\n",
    "learning_rate = 0.0005\n",
    "W = np.zeros((column + 1, 1))  # Merge the W and b\n",
    "gradient_rounds = 1000  # rounds for training\n",
    "\n",
    "# pyplot initial\n",
    "plt.figure(1)\n",
    "plt.subplot(111)\n",
    "xplot = []\n",
    "yplot = []\n",
    "yplotV = []\n",
    "for i in range(gradient_rounds):\n",
    "    gradient = -np.dot(X.T, (np.dot(X, W) - Y_train.T))  # Compute the gradient\n",
    "    W = W + np.reshape(learning_rate * gradient, (column + 1, 1))  # Update the W\n",
    "    xplot.append(i)\n",
    "    loss = 0\n",
    "    for each in range(row):\n",
    "        loss += pow(Y_train.T[each] - np.dot(X[each], W), 2)  # Compute the loss in train set\n",
    "    yplot.append(0.5 * loss / row)\n",
    "    loss = 0\n",
    "    for each in range(testrow):\n",
    "        eachx = X_test[each]\n",
    "        x = np.hstack((eachx, 1))\n",
    "        loss += pow((Y_test.T[each] - np.dot(x, W)), 2)  # Compute the loss in validation set\n",
    "    yplotV.append(0.5 * loss / testrow)\n",
    "plt.title('During the training')\n",
    "plt.xlabel('Rounds')\n",
    "plt.ylabel('Loss')\n",
    "plt.plot(np.array(xplot), np.array(yplot),color=\"blue\", linewidth=1.0, linestyle=\"-\", label=\"Train Set\")\n",
    "plt.plot(np.array(xplot), np.array(yplotV),color=\"red\", linewidth=1.0, linestyle=\"-\", label=\"Validation Set\")\n",
    "\n",
    "plt.legend(loc='upper right')\n",
    "\n",
    "plt.show()\n"
   ]
  },
  {
   "cell_type": "code",
   "execution_count": null,
   "metadata": {
    "collapsed": true
   },
   "outputs": [],
   "source": []
  }
 ],
 "metadata": {
  "kernelspec": {
   "display_name": "Python 3",
   "language": "python",
   "name": "python3"
  },
  "language_info": {
   "codemirror_mode": {
    "name": "ipython",
    "version": 3
   },
   "file_extension": ".py",
   "mimetype": "text/x-python",
   "name": "python",
   "nbconvert_exporter": "python",
   "pygments_lexer": "ipython3",
   "version": "3.6.3"
  }
 },
 "nbformat": 4,
 "nbformat_minor": 2
}
